{
  "nbformat": 4,
  "nbformat_minor": 0,
  "metadata": {
    "colab": {
      "provenance": [],
      "authorship_tag": "ABX9TyOvwYnMeKlvmMZzhdw/3j1G",
      "include_colab_link": true
    },
    "kernelspec": {
      "name": "python3",
      "display_name": "Python 3"
    },
    "language_info": {
      "name": "python"
    }
  },
  "cells": [
    {
      "cell_type": "markdown",
      "metadata": {
        "id": "view-in-github",
        "colab_type": "text"
      },
      "source": [
        "<a href=\"https://colab.research.google.com/github/charliezou/stock/blob/master/sto02.ipynb\" target=\"_parent\"><img src=\"https://colab.research.google.com/assets/colab-badge.svg\" alt=\"Open In Colab\"/></a>"
      ]
    },
    {
      "cell_type": "code",
      "source": [
        "#以下是一个基于 价格动量策略 的完整Python实现，包含数据获取、信号生成、回测及可视化，结合了经典方法和实践优化"
      ],
      "metadata": {
        "id": "33JvGhScu8FB"
      },
      "execution_count": null,
      "outputs": []
    },
    {
      "cell_type": "code",
      "source": [
        "#环境准备\n",
        "\n",
        "# 安装必要库（首次运行需执行）\n",
        "!pip install yfinance pandas_datareader numpy matplotlib\n",
        "!pip install pandas_ta"
      ],
      "metadata": {
        "id": "1l6yxBcXvBXj",
        "colab": {
          "base_uri": "https://localhost:8080/"
        },
        "outputId": "26411a28-deda-47f6-883a-b2d7b983682d"
      },
      "execution_count": null,
      "outputs": [
        {
          "output_type": "stream",
          "name": "stdout",
          "text": [
            "Requirement already satisfied: yfinance in /usr/local/lib/python3.11/dist-packages (0.2.52)\n",
            "Requirement already satisfied: pandas_datareader in /usr/local/lib/python3.11/dist-packages (0.10.0)\n",
            "Requirement already satisfied: numpy in /usr/local/lib/python3.11/dist-packages (1.26.4)\n",
            "Requirement already satisfied: matplotlib in /usr/local/lib/python3.11/dist-packages (3.10.0)\n",
            "Requirement already satisfied: pandas>=1.3.0 in /usr/local/lib/python3.11/dist-packages (from yfinance) (2.2.2)\n",
            "Requirement already satisfied: requests>=2.31 in /usr/local/lib/python3.11/dist-packages (from yfinance) (2.32.3)\n",
            "Requirement already satisfied: multitasking>=0.0.7 in /usr/local/lib/python3.11/dist-packages (from yfinance) (0.0.11)\n",
            "Requirement already satisfied: lxml>=4.9.1 in /usr/local/lib/python3.11/dist-packages (from yfinance) (5.3.1)\n",
            "Requirement already satisfied: platformdirs>=2.0.0 in /usr/local/lib/python3.11/dist-packages (from yfinance) (4.3.6)\n",
            "Requirement already satisfied: pytz>=2022.5 in /usr/local/lib/python3.11/dist-packages (from yfinance) (2025.1)\n",
            "Requirement already satisfied: frozendict>=2.3.4 in /usr/local/lib/python3.11/dist-packages (from yfinance) (2.4.6)\n",
            "Requirement already satisfied: peewee>=3.16.2 in /usr/local/lib/python3.11/dist-packages (from yfinance) (3.17.9)\n",
            "Requirement already satisfied: beautifulsoup4>=4.11.1 in /usr/local/lib/python3.11/dist-packages (from yfinance) (4.13.3)\n",
            "Requirement already satisfied: html5lib>=1.1 in /usr/local/lib/python3.11/dist-packages (from yfinance) (1.1)\n",
            "Requirement already satisfied: contourpy>=1.0.1 in /usr/local/lib/python3.11/dist-packages (from matplotlib) (1.3.1)\n",
            "Requirement already satisfied: cycler>=0.10 in /usr/local/lib/python3.11/dist-packages (from matplotlib) (0.12.1)\n",
            "Requirement already satisfied: fonttools>=4.22.0 in /usr/local/lib/python3.11/dist-packages (from matplotlib) (4.56.0)\n",
            "Requirement already satisfied: kiwisolver>=1.3.1 in /usr/local/lib/python3.11/dist-packages (from matplotlib) (1.4.8)\n",
            "Requirement already satisfied: packaging>=20.0 in /usr/local/lib/python3.11/dist-packages (from matplotlib) (24.2)\n",
            "Requirement already satisfied: pillow>=8 in /usr/local/lib/python3.11/dist-packages (from matplotlib) (11.1.0)\n",
            "Requirement already satisfied: pyparsing>=2.3.1 in /usr/local/lib/python3.11/dist-packages (from matplotlib) (3.2.1)\n",
            "Requirement already satisfied: python-dateutil>=2.7 in /usr/local/lib/python3.11/dist-packages (from matplotlib) (2.8.2)\n",
            "Requirement already satisfied: soupsieve>1.2 in /usr/local/lib/python3.11/dist-packages (from beautifulsoup4>=4.11.1->yfinance) (2.6)\n",
            "Requirement already satisfied: typing-extensions>=4.0.0 in /usr/local/lib/python3.11/dist-packages (from beautifulsoup4>=4.11.1->yfinance) (4.12.2)\n",
            "Requirement already satisfied: six>=1.9 in /usr/local/lib/python3.11/dist-packages (from html5lib>=1.1->yfinance) (1.17.0)\n",
            "Requirement already satisfied: webencodings in /usr/local/lib/python3.11/dist-packages (from html5lib>=1.1->yfinance) (0.5.1)\n",
            "Requirement already satisfied: tzdata>=2022.7 in /usr/local/lib/python3.11/dist-packages (from pandas>=1.3.0->yfinance) (2025.1)\n",
            "Requirement already satisfied: charset-normalizer<4,>=2 in /usr/local/lib/python3.11/dist-packages (from requests>=2.31->yfinance) (3.4.1)\n",
            "Requirement already satisfied: idna<4,>=2.5 in /usr/local/lib/python3.11/dist-packages (from requests>=2.31->yfinance) (3.10)\n",
            "Requirement already satisfied: urllib3<3,>=1.21.1 in /usr/local/lib/python3.11/dist-packages (from requests>=2.31->yfinance) (2.3.0)\n",
            "Requirement already satisfied: certifi>=2017.4.17 in /usr/local/lib/python3.11/dist-packages (from requests>=2.31->yfinance) (2025.1.31)\n",
            "Collecting pandas_ta\n",
            "  Downloading pandas_ta-0.3.14b.tar.gz (115 kB)\n",
            "\u001b[2K     \u001b[90m━━━━━━━━━━━━━━━━━━━━━━━━━━━━━━━━━━━━━━━━\u001b[0m \u001b[32m115.1/115.1 kB\u001b[0m \u001b[31m3.1 MB/s\u001b[0m eta \u001b[36m0:00:00\u001b[0m\n",
            "\u001b[?25h  Preparing metadata (setup.py) ... \u001b[?25l\u001b[?25hdone\n",
            "Requirement already satisfied: pandas in /usr/local/lib/python3.11/dist-packages (from pandas_ta) (2.2.2)\n",
            "Requirement already satisfied: numpy>=1.23.2 in /usr/local/lib/python3.11/dist-packages (from pandas->pandas_ta) (1.26.4)\n",
            "Requirement already satisfied: python-dateutil>=2.8.2 in /usr/local/lib/python3.11/dist-packages (from pandas->pandas_ta) (2.8.2)\n",
            "Requirement already satisfied: pytz>=2020.1 in /usr/local/lib/python3.11/dist-packages (from pandas->pandas_ta) (2025.1)\n",
            "Requirement already satisfied: tzdata>=2022.7 in /usr/local/lib/python3.11/dist-packages (from pandas->pandas_ta) (2025.1)\n",
            "Requirement already satisfied: six>=1.5 in /usr/local/lib/python3.11/dist-packages (from python-dateutil>=2.8.2->pandas->pandas_ta) (1.17.0)\n",
            "Building wheels for collected packages: pandas_ta\n",
            "  Building wheel for pandas_ta (setup.py) ... \u001b[?25l\u001b[?25hdone\n",
            "  Created wheel for pandas_ta: filename=pandas_ta-0.3.14b0-py3-none-any.whl size=218909 sha256=531667b1737490b0d8ade0097bac0a4a7c8d161b35d67d6aa7474a97ff7727c4\n",
            "  Stored in directory: /root/.cache/pip/wheels/7f/33/8b/50b245c5c65433cd8f5cb24ac15d97e5a3db2d41a8b6ae957d\n",
            "Successfully built pandas_ta\n",
            "Installing collected packages: pandas_ta\n",
            "Successfully installed pandas_ta-0.3.14b0\n"
          ]
        }
      ]
    },
    {
      "cell_type": "code",
      "execution_count": null,
      "metadata": {
        "id": "QnzsEWjyusCN",
        "collapsed": true
      },
      "outputs": [],
      "source": [
        "\n",
        "\n",
        "#完整代码实现\n",
        "\n",
        "import yfinance as yf\n",
        "import pandas as pd\n",
        "import numpy as np\n",
        "import matplotlib.pyplot as plt\n",
        "\n",
        "\n",
        "# ========== 参数设置 ==========\n",
        "START_DATE = '2010-01-01'\n",
        "END_DATE = '2023-12-31'\n",
        "TICKERS = ['AAPL', 'MSFT', 'GOOGL', 'AMZN', 'META', 'TSLA', 'NVDA', 'BRK-B']  # 股票池\n",
        "MOMENTUM_WINDOW = 20      # 动量计算周期（日）\n",
        "HOLDING_PERIOD = 21       # 持仓周期（日）\n",
        "TOP_N = 3                 # 每次调仓选择前N名\n",
        "INITIAL_CAPITAL = 100000  # 初始资金\n",
        "STOP_LOSS_PCT = 7  # 止损幅度，可调节为3%、7%等\n",
        "VOLATILITY_WINDOW = 20\n",
        "RSI_PERIOD = 14\n",
        "\n",
        "# ========== 数据获取 ==========\n",
        "def download_data(tickers):\n",
        "    df = yf.download(tickers, start=START_DATE, end=END_DATE, auto_adjust=True)['Close']\n",
        "    df = df.resample('D').last().ffill()  # 处理缺失值\n",
        "    return df\n",
        "\n",
        "prices = download_data(TICKERS)\n",
        "\n",
        "\n",
        "# 计算波动率（收益率标准差）\n",
        "def calculate_volatility(data, window):\n",
        "    returns = prices.pct_change()\n",
        "    volatility = returns.rolling(window).std()\n",
        "    return volatility\n",
        "volatility = calculate_volatility(prices, VOLATILITY_WINDOW)\n",
        "\n",
        "#计算rsi\n",
        "def calculate_rsi(data, rsi_period):\n",
        "    rsi = data.apply(lambda x: ta.rsi(x.close, length=rsi_period))  # RSI矩阵\n",
        "    return rsi\n",
        "rsi = calculate_volatility(prices, RSI_PERIOD)\n"
      ]
    },
    {
      "cell_type": "code",
      "source": [
        "# ========== base-动量计算 ==========\n",
        "def calculate_momentum(data, window):\n",
        "    returns = data.pct_change(window)\n",
        "    momentum = returns.shift(0)  # 避免未来数据泄露\n",
        "    return momentum\n",
        "\n",
        "momentum = calculate_momentum(prices, MOMENTUM_WINDOW)"
      ],
      "metadata": {
        "id": "JyctY6qhiqJT"
      },
      "execution_count": null,
      "outputs": []
    },
    {
      "cell_type": "code",
      "source": [
        "# ========== 动量计算（动态调整动量阈值） ==========\n",
        "def risk_adjusted_momentum(data, window,volatility_window):\n",
        "    # 动态调整动量阈值\n",
        "    momentum = data.pct_change(window)\n",
        "    volatility = data.rolling(window).std() #这里有问题，但是效果好\n",
        "    dynamic_threshold = 0.5 * volatility\n",
        "    momentum = momentum / dynamic_threshold\n",
        "\n",
        "    return momentum\n",
        "\n",
        "momentum = risk_adjusted_momentum(prices, MOMENTUM_WINDOW,VOLATILITY_WINDOW)\n",
        "#print(momentum)"
      ],
      "metadata": {
        "colab": {
          "base_uri": "https://localhost:8080/"
        },
        "id": "va9LRlyE9TAg",
        "outputId": "44e7b7c0-ef9f-4070-fca2-d97cd961f815"
      },
      "execution_count": null,
      "outputs": [
        {
          "output_type": "stream",
          "name": "stdout",
          "text": [
            "Ticker          AAPL      AMZN     BRK-B     GOOGL      META      MSFT  \\\n",
            "Date                                                                     \n",
            "2010-01-04       NaN       NaN       NaN       NaN       NaN       NaN   \n",
            "2010-01-05       NaN       NaN       NaN       NaN       NaN       NaN   \n",
            "2010-01-06       NaN       NaN       NaN       NaN       NaN       NaN   \n",
            "2010-01-07       NaN       NaN       NaN       NaN       NaN       NaN   \n",
            "2010-01-08       NaN       NaN       NaN       NaN       NaN       NaN   \n",
            "...              ...       ...       ...       ...       ...       ...   \n",
            "2023-12-25  0.203163  4.248520  1.022836  5.802500  6.702114  1.723168   \n",
            "2023-12-26  0.856926  6.283496  3.391490  6.536638  7.713766  5.204487   \n",
            "2023-12-27 -1.260754  4.598896  3.464832  1.808552  6.272081  2.783641   \n",
            "2023-12-28 -2.327102  4.326689  3.926263  2.754268  4.928887  0.910713   \n",
            "2023-12-29 -3.304645  3.447745  3.431788  2.460279  4.149779  1.513037   \n",
            "\n",
            "Ticker          NVDA      TSLA  \n",
            "Date                            \n",
            "2010-01-04       NaN       NaN  \n",
            "2010-01-05       NaN       NaN  \n",
            "2010-01-06       NaN       NaN  \n",
            "2010-01-07       NaN       NaN  \n",
            "2010-01-08       NaN       NaN  \n",
            "...              ...       ...  \n",
            "2023-12-25  4.238558  4.581871  \n",
            "2023-12-26  8.652259  5.794324  \n",
            "2023-12-27  6.899022  5.875313  \n",
            "2023-12-28  4.897614  2.965391  \n",
            "2023-12-29  5.039399  1.513335  \n",
            "\n",
            "[5108 rows x 8 columns]\n"
          ]
        }
      ]
    },
    {
      "cell_type": "code",
      "source": [
        "# ========== 动量计算（动态调整动量阈值） ==========\n",
        "def risk_adjusted_momentum(data, window, volatility):\n",
        "    # 动态调整动量阈值\n",
        "    momentum = data.pct_change(window)\n",
        "    dynamic_threshold = 0.5 * volatility\n",
        "    momentum = momentum / dynamic_threshold\n",
        "\n",
        "    return momentum\n",
        "\n",
        "momentum = risk_adjusted_momentum(prices, MOMENTUM_WINDOW, volatility)\n",
        "print(momentum)"
      ],
      "metadata": {
        "id": "VOoTYCuJ-i1C"
      },
      "execution_count": null,
      "outputs": []
    },
    {
      "cell_type": "code",
      "source": [
        "# ========== 信号生成（base-加入持仓周期） ==========\n",
        "def generate_signals(momentum, top_n, holding_period):\n",
        "    # 生成调仓日标记：每隔holding_period天调仓一次\n",
        "    rebalance_dates = momentum.resample(f'{holding_period}D').last().index\n",
        "\n",
        "    # 初始化全零信号矩阵\n",
        "    signals = pd.DataFrame(0.0, index=momentum.index, columns=momentum.columns)\n",
        "\n",
        "    # 仅在调仓日计算信号\n",
        "    for date in rebalance_dates:\n",
        "        if date not in signals.index:\n",
        "            continue  # 避免日期对齐问题\n",
        "\n",
        "        # 获取当前动量排名\n",
        "        current_momentum = momentum.loc[date]\n",
        "        ranked = current_momentum.rank(ascending=False, method='min')\n",
        "        # 选取前N名\n",
        "        selected = ranked[ranked <= top_n].index\n",
        "\n",
        "        signals.loc[date:] = 0\n",
        "        signals.loc[date:, selected] = 1  # 保持持仓直到下次调仓\n",
        "\n",
        "    # 生成持仓权重（等权重）\n",
        "    signals = signals.div(signals.sum(axis=1), axis=0).fillna(0)\n",
        "\n",
        "    return signals\n",
        "\n",
        "signals = generate_signals(momentum, TOP_N, HOLDING_PERIOD)"
      ],
      "metadata": {
        "id": "pZYnkP9BTul1"
      },
      "execution_count": null,
      "outputs": []
    },
    {
      "cell_type": "code",
      "source": [
        "# ========== 信号生成（加入动态仓位） ==========\n",
        "def generate_signals(prices, momentum, top_n, holding_period, vol_window=20):\n",
        "    \"\"\"\n",
        "    根据波动率调整头寸规模的信号生成函数\n",
        "    :param prices: DataFrame 价格数据（用于计算波动率）\n",
        "    :param momentum: DataFrame 动量值矩阵\n",
        "    :param top_n: int 每次调仓选择前N名\n",
        "    :param holding_period: int 持仓周期（调仓间隔天数）\n",
        "    :param vol_window: int 波动率计算窗口（默认20日）\n",
        "    :return: DataFrame 权重矩阵（数值代表持仓比例）\n",
        "    \"\"\"\n",
        "    # ====== 基础信号生成 ======\n",
        "    rebalance_dates = momentum.resample(f'{holding_period}D').last().index\n",
        "    signals = pd.DataFrame(0.0, index=momentum.index, columns=momentum.columns)\n",
        "\n",
        "    for date in rebalance_dates:\n",
        "        if date not in signals.index:\n",
        "            continue\n",
        "\n",
        "        # 1. 获取当前动量排名\n",
        "        current_momentum = momentum.loc[date]\n",
        "        ranked = current_momentum.rank(ascending=False, method='min')\n",
        "        selected = ranked[ranked <= top_n].index\n",
        "\n",
        "        signals.loc[date:] = 0\n",
        "\n",
        "        # 2. 计算波动率调整权重\n",
        "        # 获取价格数据（截止到调仓日前一交易日）\n",
        "        price_subset = prices.loc[:date, selected].ffill()  # 前向填充处理缺失值\n",
        "\n",
        "        # 计算波动率（过去vol_window日收益率标准差）\n",
        "        returns = price_subset.pct_change()\n",
        "        volatility = returns.rolling(vol_window, min_periods=5).std().iloc[-1]\n",
        "\n",
        "        # 处理无效值：将波动率为0或NaN替换为极大值（避免除零错误）\n",
        "        volatility = volatility.replace(0, np.inf).fillna(np.inf)\n",
        "\n",
        "        # 波动率倒数加权（波动率越高，权重越低）\n",
        "        weights = 1 / volatility\n",
        "        weights = weights / weights.sum()  # 归一化\n",
        "\n",
        "        # 3. 分配权重到持仓周期\n",
        "        signals.loc[date:, selected] = weights.values\n",
        "\n",
        "    return signals\n",
        "\n",
        "signals = generate_signals(prices, momentum, TOP_N, HOLDING_PERIOD)\n",
        "#print(signals)"
      ],
      "metadata": {
        "id": "0Sveq-kVkV2O"
      },
      "execution_count": null,
      "outputs": []
    },
    {
      "cell_type": "code",
      "source": [
        "# ========== 信号生成（加入移动止损） ==========\n",
        "def generate_signals_with_stoploss(prices, momentum, top_n, holding_period, stop_loss_pct=5):\n",
        "    \"\"\"\n",
        "    带移动止损的信号生成函数\n",
        "    :param prices: DataFrame 价格数据（行索引为日期，列名为股票代码）\n",
        "    :param momentum: DataFrame 动量值矩阵（与prices同维度）\n",
        "    :param top_n: int 每次调仓选择前N名\n",
        "    :param holding_period: int 持仓周期（调仓间隔天数）\n",
        "    :param stop_loss_pct: float 止损比例（默认5%）\n",
        "    :return: DataFrame 包含止损逻辑的交易信号矩阵（1:持有，0:不持有）\n",
        "    \"\"\"\n",
        "    # ====== 基础信号生成（原逻辑） ======\n",
        "    rebalance_dates = momentum.resample(f'{holding_period}D').last().index\n",
        "    signals = pd.DataFrame(0, index=momentum.index, columns=momentum.columns)\n",
        "\n",
        "    for date in rebalance_dates:\n",
        "        if date not in signals.index:\n",
        "            continue\n",
        "        # 获取当前动量排名\n",
        "        current_momentum = momentum.loc[date]\n",
        "        ranked = current_momentum.rank(ascending=False, method='min')\n",
        "        signals.loc[date:] = 0\n",
        "        # 选取前N名\n",
        "        selected = ranked[ranked <= top_n].index\n",
        "        signals.loc[date:, selected] = 1  # 初始持仓信号\n",
        "\n",
        "    # ====== 动态移动止损处理 ======\n",
        "    stop_loss = pd.DataFrame(False, index=signals.index, columns=signals.columns)\n",
        "\n",
        "    for ticker in signals.columns:\n",
        "        # --- 步骤1：识别每个持仓周期的起始点 ---\n",
        "        position_changes = signals[ticker].diff().fillna(0)\n",
        "        entry_points = (position_changes == 1)  # 信号从0变1的位置\n",
        "\n",
        "        # --- 步骤2：为每个持仓周期生成唯一标识 ---\n",
        "        cycle_ids = entry_points.cumsum()  # 每个持仓周期获得独立ID\n",
        "\n",
        "        # --- 步骤3：计算每个周期内的动态最高价 ---\n",
        "        # 仅在持仓期间计算（signals==1时保留价格，否则置NaN）\n",
        "        masked_prices = prices[ticker].where(signals[ticker] == 1)\n",
        "        # 按持仓周期分组计算累积最大值\n",
        "        cummax = masked_prices.groupby(cycle_ids).cummax()\n",
        "\n",
        "        # --- 步骤4：生成止损触发信号 ---\n",
        "        # 当前价格 < 最高价*(1-止损比例) 且 处于持仓状态\n",
        "        ticker_stop = (prices[ticker] < (1 - stop_loss_pct/100)*cummax) & (signals[ticker]==1)\n",
        "        stop_loss[ticker] = ticker_stop\n",
        "\n",
        "    # ====== 更新信号矩阵 ======\n",
        "    signals[stop_loss] = 0  # 触发止损时平仓\n",
        "\n",
        "    # 生成持仓权重（等权重）\n",
        "    signals = signals.div(signals.sum(axis=1), axis=0).fillna(0)\n",
        "\n",
        "    return signals\n",
        "\n",
        "# 生成带止损的信号\n",
        "signals = generate_signals_with_stoploss(prices,momentum, TOP_N, HOLDING_PERIOD,STOP_LOSS_PCT)\n"
      ],
      "metadata": {
        "id": "0t0EbyW9g_SV"
      },
      "execution_count": null,
      "outputs": []
    },
    {
      "cell_type": "code",
      "source": [
        "# ========== 信号生成（动量+RSI过滤） ==========\n",
        "def generate_signals(prices, momentum, rsi, volatility, top_n, holding_period,\n",
        "                    rsi_period=14, rsi_oversold=30, rsi_overbought=70,\n",
        "                    volatility_window=20):\n",
        "    \"\"\"\n",
        "    动量策略+RSI超买超卖过滤的信号生成函数\n",
        "    :param prices: DataFrame 价格数据（用于计算RSI和波动率）\n",
        "    :param momentum: DataFrame 动量值矩阵\n",
        "    :param top_n: int 每次调仓选择前N名\n",
        "    :param holding_period: int 持仓周期（调仓间隔天数）\n",
        "    :param rsi_period: int RSI计算周期（默认14天）\n",
        "    :param rsi_oversold: float RSI超卖阈值（默认30）\n",
        "    :param rsi_overbought: float RSI超买阈值（默认70）\n",
        "    :param volatility_window: int 波动率过滤窗口（默认20天）\n",
        "    :return: DataFrame 交易信号矩阵（1:持有，0:不持有）\n",
        "    \"\"\"\n",
        "\n",
        "    # ====== 生成基础调仓日 ======\n",
        "    rebalance_dates = momentum.resample(f'{holding_period}D').last().index\n",
        "    signals = pd.DataFrame(0.0, index=momentum.index, columns=momentum.columns)\n",
        "\n",
        "    # ====== 逐调仓日处理 ======\n",
        "    for date in rebalance_dates:\n",
        "        if date not in signals.index:\n",
        "            continue\n",
        "\n",
        "        # 1. 获取候选股票（动量前2*top_n名）\n",
        "        current_momentum = momentum.loc[date]\n",
        "        ranked = current_momentum.rank(ascending=False, method='min')\n",
        "        candidates = ranked[ranked <= 2*top_n].index  # 扩大候选池\n",
        "\n",
        "        # 2. 多维度过滤条件\n",
        "        # --- RSI条件：在超卖区域且未超买 ---\n",
        "        rsi_values = rsi.loc[date, candidates]\n",
        "        rsi_cond = (rsi_values <= rsi_oversold) | (rsi_values >= rsi_overbought)  # 排除RSI极端值\n",
        "\n",
        "        # --- 波动率过滤：去除异常波动股票 ---\n",
        "        vol_values = volatility.loc[date, candidates]\n",
        "        vol_cond = vol_values.between(vol_values.quantile(0.1), vol_values.quantile(0.9))  # 去除前10%和后10%\n",
        "\n",
        "        # 3. 综合筛选\n",
        "        selected = candidates[rsi_cond & vol_cond][:top_n]  # 取前top_n名\n",
        "\n",
        "        # 4. 分配信号\n",
        "        signals.loc[date:] = 0\n",
        "        if len(selected) > 0:\n",
        "            signals.loc[date:, selected] = 1\n",
        "\n",
        "    # 生成持仓权重（等权重）\n",
        "    signals = signals.div(signals.sum(axis=1), axis=0).fillna(0)\n",
        "\n",
        "    return signals"
      ],
      "metadata": {
        "id": "kVB2ZP6xASJn"
      },
      "execution_count": null,
      "outputs": []
    },
    {
      "cell_type": "code",
      "source": [
        "# ========== 回测引擎 ==========\n",
        "def backtest(prices, signals, initial_capital, holding_period):\n",
        "    # 计算日收益率\n",
        "    returns = prices.pct_change()\n",
        "\n",
        "    # 计算策略收益\n",
        "    strategy_returns = (signals.shift(2) * returns).sum(axis=1)  # 延迟一交易日执行,此处准确应该为shift(1)\n",
        "    #print(strategy_returns)\n",
        "\n",
        "    # 转换为净值曲线\n",
        "    portfolio = (1 + strategy_returns).cumprod() * initial_capital\n",
        "\n",
        "    return portfolio\n",
        "\n",
        "portfolio = backtest(prices, signals, INITIAL_CAPITAL, HOLDING_PERIOD)\n",
        "print(portfolio)"
      ],
      "metadata": {
        "colab": {
          "base_uri": "https://localhost:8080/"
        },
        "collapsed": true,
        "id": "odUJtVDOyxmS",
        "outputId": "caea18f2-edce-4bc5-e351-69c58bff3ddc"
      },
      "execution_count": null,
      "outputs": [
        {
          "output_type": "stream",
          "name": "stdout",
          "text": [
            "Date\n",
            "2010-01-04    1.000000e+05\n",
            "2010-01-05    1.000000e+05\n",
            "2010-01-06    1.000000e+05\n",
            "2010-01-07    1.000000e+05\n",
            "2010-01-08    1.000000e+05\n",
            "                  ...     \n",
            "2023-12-25    5.602558e+06\n",
            "2023-12-26    5.599338e+06\n",
            "2023-12-27    5.631376e+06\n",
            "2023-12-28    5.582557e+06\n",
            "2023-12-29    5.520413e+06\n",
            "Freq: D, Length: 5108, dtype: float64\n"
          ]
        }
      ]
    },
    {
      "cell_type": "code",
      "source": [
        "#保存中间数据\n",
        "savedata = pd.merge(prices, momentum, on='Date')\n",
        "savedata = pd.merge(savedata, signals, on='Date')\n",
        "savedata = savedata.assign(portfolio=portfolio)\n",
        "\n",
        "savedata.to_csv('tmp.csv')\n"
      ],
      "metadata": {
        "id": "fQEDX-8W-Wo0"
      },
      "execution_count": null,
      "outputs": []
    },
    {
      "cell_type": "code",
      "source": [
        "# ========== 基准对比 ==========\n",
        "# 获取标普500作为基准\n",
        "spy = yf.download('SPY', start=START_DATE, end=END_DATE, auto_adjust=True)['Close']\n",
        "spy_returns = spy.pct_change().fillna(0)\n",
        "spy_portfolio = (1 + spy_returns).cumprod() * INITIAL_CAPITAL\n",
        "\n",
        "# ========== 可视化 ==========\n",
        "plt.figure(figsize=(12,6))\n",
        "plt.plot(portfolio.index, portfolio, label='Momentum Strategy', color='#2c7bb6')\n",
        "plt.plot(spy_portfolio.index, spy_portfolio, label='SPY Benchmark', linestyle='--', color='#d7191c')\n",
        "plt.title(f'Momentum Strategy vs SPY ({START_DATE} to {END_DATE})')\n",
        "plt.xlabel('Date')\n",
        "plt.ylabel('Portfolio Value')\n",
        "plt.legend()\n",
        "plt.grid(True)\n",
        "plt.show()\n",
        "\n",
        "# ========== 绩效统计 ==========\n",
        "def performance_analysis(returns):\n",
        "    cumulative_returns = (1 + returns).cumprod()\n",
        "    total_return = cumulative_returns.iloc[-1] / cumulative_returns.iloc[0] - 1\n",
        "    annual_return = (1 + total_return) ** (252/len(returns)) - 1\n",
        "    max_drawdown = (cumulative_returns / cumulative_returns.cummax() - 1).min()\n",
        "    sharpe_ratio = returns.mean() / returns.std() * np.sqrt(252)\n",
        "\n",
        "    print(f\"累计收益: {total_return:.2%}\")\n",
        "    print(f\"年化收益: {annual_return:.2%}\")\n",
        "    print(f\"最大回撤: {max_drawdown:.2%}\")\n",
        "    print(f\"夏普比率: {sharpe_ratio:.2f}\")\n",
        "\n",
        "print(\"\\n=== 动量策略表现 ===\")\n",
        "performance_analysis(portfolio.pct_change().dropna())\n",
        "\n",
        "print(\"\\n=== 基准表现 ===\")\n",
        "performance_analysis(spy_portfolio['SPY'].pct_change().dropna())"
      ],
      "metadata": {
        "colab": {
          "base_uri": "https://localhost:8080/",
          "height": 796
        },
        "outputId": "17720e51-9fb0-448e-92a5-c5c506e2071b",
        "id": "N8urVT2IkYL2"
      },
      "execution_count": null,
      "outputs": [
        {
          "output_type": "stream",
          "name": "stderr",
          "text": [
            "\r[*********************100%***********************]  1 of 1 completed\n"
          ]
        },
        {
          "output_type": "display_data",
          "data": {
            "text/plain": [
              "<Figure size 1200x600 with 1 Axes>"
            ],
            "image/png": "[encoded data removed]"
          },
          "metadata": {}
        },
        {
          "output_type": "stream",
          "name": "stdout",
          "text": [
            "\n",
            "=== 动量策略表现 ===\n",
            "累计收益: 8726.51%\n",
            "年化收益: 24.74%\n",
            "最大回撤: -41.18%\n",
            "夏普比率: 1.07\n",
            "\n",
            "=== 基准表现 ===\n",
            "累计收益: 444.08%\n",
            "年化收益: 12.89%\n",
            "最大回撤: -33.72%\n",
            "夏普比率: 0.79\n"
          ]
        }
      ]
    },
    {
      "cell_type": "code",
      "source": [
        "\"\"\"核心逻辑解析\n",
        "\n",
        "动量计算\n",
        "使用过去20日的收益率作为动量指标，shift(1)确保避免未来数据偏差\n",
        "示例公式：Momentum = (Price_t / Price_{t-20} - 1)\n",
        "信号生成\n",
        "每日对股票池中的标的进行动量排名\n",
        "持有前3名（TOP_N=3）的股票，其余仓位清零\n",
        "交易执行\n",
        "采用T+1交易逻辑（shift(2)），即当日收盘计算信号，次日开盘执行\n",
        "持仓周期21天（约1个月），每次调仓时重新计算动量排名\n",
        "风险管理\n",
        "等权重分配资金（可改为波动率倒数加权优化）\n",
        "自动剔除停牌股票（通过ffill处理缺失数据）\n",
        "\"\"\"\n",
        "#优化方向\n",
        "\n",
        "#动量定义改进\n",
        "# 使用风险调整动量（夏普比率动量）\n",
        "def risk_adjusted_momentum(data, window):\n",
        "    returns = data.pct_change()\n",
        "    momentum = returns.rolling(window).mean() / returns.rolling(window).std()\n",
        "    return momentum\n",
        "#动态仓位管理\n",
        "# 根据波动率调整头寸规模\n",
        "volatility = prices.pct_change().rolling(20).std()\n",
        "positions = signals.div(volatility, axis=0)  # 波动率倒数加权\n",
        "#止损机制\n",
        "# 加入5%移动止损\n",
        "drawdown = (prices / prices.rolling(20).max() - 1)\n",
        "stop_loss_signal = (drawdown < -0.05).astype(int)\n",
        "signals = signals * (1 - stop_loss_signal)  # 触发止损清仓\n",
        "\"\"\"策略特点\n",
        "\n",
        "优势：在趋势延续阶段（如科技股牛市）超额收益显著\n",
        "风险：在震荡市（如2022年美联储加息周期）会产生连续止损\n",
        "适用性：适合流动性高、波动率适中的标的（如标普500成分股）\n",
        "建议在实际交易前进行参数敏感性测试（通过GridSearchCV优化窗口参数）并加入交易成本（约0.1%每笔）的模拟。\n",
        "\"\"\"\n",
        "\n",
        "#1.动量预估网络：使用时序深度学习网络，输入：历史动量，输出未来动量\n",
        "#2.风险预估网络：使用时序深度学习网络，输入：历史动量，输出未来风险"
      ],
      "metadata": {
        "id": "eBmtkc8fvnTO"
      },
      "execution_count": null,
      "outputs": []
    },
    {
      "cell_type": "code",
      "source": [
        "#test\n",
        "import pandas as pd\n",
        "import numpy as np\n",
        "\n",
        "\n",
        "momentum = prices.pct_change(20)\n",
        "print(momentum)\n",
        "\n",
        "volatility = prices.pct_change().rolling(20).std()\n",
        "print(volatility)\n",
        "dynamic_threshold = 0.5 * volatility\n",
        "momentum = momentum / dynamic_threshold\n",
        "print(momentum)\n",
        "\n",
        "\n",
        "\"\"\"\n",
        "d={'Close':[31,32,33,34,35,33,32,29,25,20]}\n",
        "data = pd.DataFrame(d)['Close']\n",
        "\n",
        "momentum1 = calculate_momentum(data,5)\n",
        "momentum2 = risk_adjusted_momentum(data,5)\n",
        "\n",
        "print(momentum1)\n",
        "print(momentum2)\n",
        "\"\"\""
      ],
      "metadata": {
        "colab": {
          "base_uri": "https://localhost:8080/",
          "height": 1000
        },
        "id": "bzRNJlHL2WIR",
        "outputId": "14705ab3-4187-4a95-c659-88ef20679ba8"
      },
      "execution_count": null,
      "outputs": [
        {
          "output_type": "stream",
          "name": "stdout",
          "text": [
            "Ticker          AAPL      AMZN     BRK-B     GOOGL      META      MSFT  \\\n",
            "Date                                                                     \n",
            "2010-01-04       NaN       NaN       NaN       NaN       NaN       NaN   \n",
            "2010-01-05       NaN       NaN       NaN       NaN       NaN       NaN   \n",
            "2010-01-06       NaN       NaN       NaN       NaN       NaN       NaN   \n",
            "2010-01-07       NaN       NaN       NaN       NaN       NaN       NaN   \n",
            "2010-01-08       NaN       NaN       NaN       NaN       NaN       NaN   \n",
            "...              ...       ...       ...       ...       ...       ...   \n",
            "2023-12-25  0.000931  0.044526  0.004056  0.080159  0.110277  0.005530   \n",
            "2023-12-26  0.003796  0.061514  0.012628  0.088448  0.117751  0.015889   \n",
            "2023-12-27 -0.005765  0.043981  0.012050  0.025122  0.095655  0.008411   \n",
            "2023-12-28 -0.010883  0.040429  0.012717  0.038818  0.076845  0.002806   \n",
            "2023-12-29 -0.016248  0.030661  0.010139  0.034817  0.063742  0.004836   \n",
            "\n",
            "Ticker          NVDA      TSLA  \n",
            "Date                            \n",
            "2010-01-04       NaN       NaN  \n",
            "2010-01-05       NaN       NaN  \n",
            "2010-01-06       NaN       NaN  \n",
            "2010-01-07       NaN       NaN  \n",
            "2010-01-08       NaN       NaN  \n",
            "...              ...       ...  \n",
            "2023-12-25  0.048619  0.057892  \n",
            "2023-12-26  0.082984  0.072022  \n",
            "2023-12-27  0.060542  0.077481  \n",
            "2023-12-28  0.042437  0.038304  \n",
            "2023-12-29  0.042437  0.019029  \n",
            "\n",
            "[5108 rows x 8 columns]\n",
            "Ticker          AAPL      AMZN     BRK-B     GOOGL      META      MSFT  \\\n",
            "Date                                                                     \n",
            "2010-01-04       NaN       NaN       NaN       NaN       NaN       NaN   \n",
            "2010-01-05       NaN       NaN       NaN       NaN       NaN       NaN   \n",
            "2010-01-06       NaN       NaN       NaN       NaN       NaN       NaN   \n",
            "2010-01-07       NaN       NaN       NaN       NaN       NaN       NaN   \n",
            "2010-01-08       NaN       NaN       NaN       NaN       NaN       NaN   \n",
            "...              ...       ...       ...       ...       ...       ...   \n",
            "2023-12-25  0.007085  0.010623  0.006721  0.014626  0.013089  0.007847   \n",
            "2023-12-26  0.006991  0.009738  0.006473  0.014412  0.012960  0.007465   \n",
            "2023-12-27  0.006591  0.009243  0.006473  0.008981  0.011795  0.007386   \n",
            "2023-12-28  0.006372  0.009245  0.006477  0.008241  0.011324  0.007153   \n",
            "2023-12-29  0.006463  0.009586  0.006516  0.008333  0.011852  0.007165   \n",
            "\n",
            "Ticker          NVDA      TSLA  \n",
            "Date                            \n",
            "2010-01-04       NaN       NaN  \n",
            "2010-01-05       NaN       NaN  \n",
            "2010-01-06       NaN       NaN  \n",
            "2010-01-07       NaN       NaN  \n",
            "2010-01-08       NaN       NaN  \n",
            "...              ...       ...  \n",
            "2023-12-25  0.015134  0.017751  \n",
            "2023-12-26  0.013963  0.017993  \n",
            "2023-12-27  0.013152  0.018180  \n",
            "2023-12-28  0.012565  0.019830  \n",
            "2023-12-29  0.012565  0.020359  \n",
            "\n",
            "[5108 rows x 8 columns]\n",
            "Ticker          AAPL       AMZN     BRK-B      GOOGL       META      MSFT  \\\n",
            "Date                                                                        \n",
            "2010-01-04       NaN        NaN       NaN        NaN        NaN       NaN   \n",
            "2010-01-05       NaN        NaN       NaN        NaN        NaN       NaN   \n",
            "2010-01-06       NaN        NaN       NaN        NaN        NaN       NaN   \n",
            "2010-01-07       NaN        NaN       NaN        NaN        NaN       NaN   \n",
            "2010-01-08       NaN        NaN       NaN        NaN        NaN       NaN   \n",
            "...              ...        ...       ...        ...        ...       ...   \n",
            "2023-12-25  0.262713   8.382728  1.207017  10.961248  16.849952  1.409521   \n",
            "2023-12-26  1.085929  12.633693  3.901818  12.274307  18.171817  4.257218   \n",
            "2023-12-27 -1.749290   9.517117  3.723060   5.594689  16.219986  2.277467   \n",
            "2023-12-28 -3.416169   8.745770  3.926580   9.420839  13.571848  0.784416   \n",
            "2023-12-29 -5.028277   6.397260  3.112334   8.356551  10.756412  1.349981   \n",
            "\n",
            "Ticker           NVDA      TSLA  \n",
            "Date                             \n",
            "2010-01-04        NaN       NaN  \n",
            "2010-01-05        NaN       NaN  \n",
            "2010-01-06        NaN       NaN  \n",
            "2010-01-07        NaN       NaN  \n",
            "2010-01-08        NaN       NaN  \n",
            "...               ...       ...  \n",
            "2023-12-25   6.425280  6.522612  \n",
            "2023-12-26  11.885880  8.005818  \n",
            "2023-12-27   9.206735  8.523815  \n",
            "2023-12-28   6.754860  3.863243  \n",
            "2023-12-29   6.754860  1.869321  \n",
            "\n",
            "[5108 rows x 8 columns]\n"
          ]
        },
        {
          "output_type": "execute_result",
          "data": {
            "text/plain": [
              "\"\\nd={'Close':[31,32,33,34,35,33,32,29,25,20]}\\ndata = pd.DataFrame(d)['Close']\\n\\nmomentum1 = calculate_momentum(data,5)\\nmomentum2 = risk_adjusted_momentum(data,5)\\n\\nprint(momentum1)\\nprint(momentum2)\\n\""
            ],
            "application/vnd.google.colaboratory.intrinsic+json": {
              "type": "string"
            }
          },
          "metadata": {},
          "execution_count": 69
        }
      ]
    },
    {
      "cell_type": "code",
      "source": [
        "import pandas_datareader as pdr\n",
        "data = pdr.get_data_quandl('AAPL', start='2020-01-01', end='2020-05-11',api_key='qLkRnYQDoj-7yJUjgoD7')\n",
        "print(data)"
      ],
      "metadata": {
        "colab": {
          "base_uri": "https://localhost:8080/",
          "height": 507
        },
        "id": "UvsysJmLoydc",
        "outputId": "b8ad5238-1040-469e-9de9-4fcd8a987675"
      },
      "execution_count": null,
      "outputs": [
        {
          "output_type": "error",
          "ename": "RemoteDataError",
          "evalue": "Unable to read URL: https://www.quandl.com/api/v3/datasets/WIKI/AAPL.csv?start_date=2020-01-01&end_date=2020-05-11&order=asc&api_key=qLkRnYQDoj-7yJUjgoD7\nResponse Text:\nb'<html style=\"height:100%\"><head><META NAME=\"ROBOTS\" CONTENT=\"NOINDEX, NOFOLLOW\"><meta name=\"format-detection\" content=\"telephone=no\"><meta name=\"viewport\" content=\"initial-scale=1.0\"><meta http-equiv=\"X-UA-Compatible\" content=\"IE=edge,chrome=1\"><script type=\"text/javascript\" src=\"/_Incapsula_Resource?SWJIYLWA=719d34d31c8e3a6e6fffd425f7e032f3\"></script></head><body style=\"margin:0px;height:100%\"><iframe id=\"main-iframe\" src=\"/_Incapsula_Resource?CWUDNSAI=23&xinfo=14-30130679-0%200NNN%20RT%281739960740179%2017%29%20q%280%20-1%20-1%20-1%29%20r%280%20-1%29%20B15%2811%2c3946292%2c0%29%20U18&incident_id=1324000250262492458-181015288017061454&edet=15&cinfo=0b000000&rpinfo=0&mth=GET\" frameborder=0 width=\"100%\" height=\"100%\" marginheight=\"0px\" marginwidth=\"0px\">Request unsuccessful. Incapsula incident ID: 1324000250262492458-181015288017061454</iframe></body></html>'",
          "traceback": [
            "\u001b[0;31m---------------------------------------------------------------------------\u001b[0m",
            "\u001b[0;31mRemoteDataError\u001b[0m                           Traceback (most recent call last)",
            "\u001b[0;32m<ipython-input-11-8862467ac07f>\u001b[0m in \u001b[0;36m<cell line: 0>\u001b[0;34m()\u001b[0m\n\u001b[1;32m      1\u001b[0m \u001b[0;32mimport\u001b[0m \u001b[0mpandas_datareader\u001b[0m \u001b[0;32mas\u001b[0m \u001b[0mpdr\u001b[0m\u001b[0;34m\u001b[0m\u001b[0;34m\u001b[0m\u001b[0m\n\u001b[0;32m----> 2\u001b[0;31m \u001b[0mdata\u001b[0m \u001b[0;34m=\u001b[0m \u001b[0mpdr\u001b[0m\u001b[0;34m.\u001b[0m\u001b[0mget_data_quandl\u001b[0m\u001b[0;34m(\u001b[0m\u001b[0;34m'AAPL'\u001b[0m\u001b[0;34m,\u001b[0m \u001b[0mstart\u001b[0m\u001b[0;34m=\u001b[0m\u001b[0;34m'2020-01-01'\u001b[0m\u001b[0;34m,\u001b[0m \u001b[0mend\u001b[0m\u001b[0;34m=\u001b[0m\u001b[0;34m'2020-05-11'\u001b[0m\u001b[0;34m,\u001b[0m\u001b[0mapi_key\u001b[0m\u001b[0;34m=\u001b[0m\u001b[0;34m'qLkRnYQDoj-7yJUjgoD7'\u001b[0m\u001b[0;34m)\u001b[0m\u001b[0;34m\u001b[0m\u001b[0;34m\u001b[0m\u001b[0m\n\u001b[0m\u001b[1;32m      3\u001b[0m \u001b[0mprint\u001b[0m\u001b[0;34m(\u001b[0m\u001b[0mdata\u001b[0m\u001b[0;34m)\u001b[0m\u001b[0;34m\u001b[0m\u001b[0;34m\u001b[0m\u001b[0m\n",
            "\u001b[0;32m/usr/local/lib/python3.11/dist-packages/pandas_datareader/data.py\u001b[0m in \u001b[0;36mget_data_quandl\u001b[0;34m(*args, **kwargs)\u001b[0m\n\u001b[1;32m     98\u001b[0m \u001b[0;34m\u001b[0m\u001b[0m\n\u001b[1;32m     99\u001b[0m \u001b[0;32mdef\u001b[0m \u001b[0mget_data_quandl\u001b[0m\u001b[0;34m(\u001b[0m\u001b[0;34m*\u001b[0m\u001b[0margs\u001b[0m\u001b[0;34m,\u001b[0m \u001b[0;34m**\u001b[0m\u001b[0mkwargs\u001b[0m\u001b[0;34m)\u001b[0m\u001b[0;34m:\u001b[0m\u001b[0;34m\u001b[0m\u001b[0;34m\u001b[0m\u001b[0m\n\u001b[0;32m--> 100\u001b[0;31m     \u001b[0;32mreturn\u001b[0m \u001b[0mQuandlReader\u001b[0m\u001b[0;34m(\u001b[0m\u001b[0;34m*\u001b[0m\u001b[0margs\u001b[0m\u001b[0;34m,\u001b[0m \u001b[0;34m**\u001b[0m\u001b[0mkwargs\u001b[0m\u001b[0;34m)\u001b[0m\u001b[0;34m.\u001b[0m\u001b[0mread\u001b[0m\u001b[0;34m(\u001b[0m\u001b[0;34m)\u001b[0m\u001b[0;34m\u001b[0m\u001b[0;34m\u001b[0m\u001b[0m\n\u001b[0m\u001b[1;32m    101\u001b[0m \u001b[0;34m\u001b[0m\u001b[0m\n\u001b[1;32m    102\u001b[0m \u001b[0;34m\u001b[0m\u001b[0m\n",
            "\u001b[0;32m/usr/local/lib/python3.11/dist-packages/pandas_datareader/quandl.py\u001b[0m in \u001b[0;36mread\u001b[0;34m(self)\u001b[0m\n\u001b[1;32m    135\u001b[0m     \u001b[0;32mdef\u001b[0m \u001b[0mread\u001b[0m\u001b[0;34m(\u001b[0m\u001b[0mself\u001b[0m\u001b[0;34m)\u001b[0m\u001b[0;34m:\u001b[0m\u001b[0;34m\u001b[0m\u001b[0;34m\u001b[0m\u001b[0m\n\u001b[1;32m    136\u001b[0m         \u001b[0;34m\"\"\"Read data\"\"\"\u001b[0m\u001b[0;34m\u001b[0m\u001b[0;34m\u001b[0m\u001b[0m\n\u001b[0;32m--> 137\u001b[0;31m         \u001b[0mdf\u001b[0m \u001b[0;34m=\u001b[0m \u001b[0msuper\u001b[0m\u001b[0;34m(\u001b[0m\u001b[0mQuandlReader\u001b[0m\u001b[0;34m,\u001b[0m \u001b[0mself\u001b[0m\u001b[0;34m)\u001b[0m\u001b[0;34m.\u001b[0m\u001b[0mread\u001b[0m\u001b[0;34m(\u001b[0m\u001b[0;34m)\u001b[0m\u001b[0;34m\u001b[0m\u001b[0;34m\u001b[0m\u001b[0m\n\u001b[0m\u001b[1;32m    138\u001b[0m         df.rename(\n\u001b[1;32m    139\u001b[0m             \u001b[0mcolumns\u001b[0m\u001b[0;34m=\u001b[0m\u001b[0;32mlambda\u001b[0m \u001b[0mn\u001b[0m\u001b[0;34m:\u001b[0m \u001b[0mn\u001b[0m\u001b[0;34m.\u001b[0m\u001b[0mreplace\u001b[0m\u001b[0;34m(\u001b[0m\u001b[0;34m\" \"\u001b[0m\u001b[0;34m,\u001b[0m \u001b[0;34m\"\"\u001b[0m\u001b[0;34m)\u001b[0m\u001b[0;34m\u001b[0m\u001b[0;34m\u001b[0m\u001b[0m\n",
            "\u001b[0;32m/usr/local/lib/python3.11/dist-packages/pandas_datareader/base.py\u001b[0m in \u001b[0;36mread\u001b[0;34m(self)\u001b[0m\n\u001b[1;32m    251\u001b[0m         \u001b[0;31m# If a single symbol, (e.g., 'GOOG')\u001b[0m\u001b[0;34m\u001b[0m\u001b[0;34m\u001b[0m\u001b[0m\n\u001b[1;32m    252\u001b[0m         \u001b[0;32mif\u001b[0m \u001b[0misinstance\u001b[0m\u001b[0;34m(\u001b[0m\u001b[0mself\u001b[0m\u001b[0;34m.\u001b[0m\u001b[0msymbols\u001b[0m\u001b[0;34m,\u001b[0m \u001b[0;34m(\u001b[0m\u001b[0mstring_types\u001b[0m\u001b[0;34m,\u001b[0m \u001b[0mint\u001b[0m\u001b[0;34m)\u001b[0m\u001b[0;34m)\u001b[0m\u001b[0;34m:\u001b[0m\u001b[0;34m\u001b[0m\u001b[0;34m\u001b[0m\u001b[0m\n\u001b[0;32m--> 253\u001b[0;31m             \u001b[0mdf\u001b[0m \u001b[0;34m=\u001b[0m \u001b[0mself\u001b[0m\u001b[0;34m.\u001b[0m\u001b[0m_read_one_data\u001b[0m\u001b[0;34m(\u001b[0m\u001b[0mself\u001b[0m\u001b[0;34m.\u001b[0m\u001b[0murl\u001b[0m\u001b[0;34m,\u001b[0m \u001b[0mparams\u001b[0m\u001b[0;34m=\u001b[0m\u001b[0mself\u001b[0m\u001b[0;34m.\u001b[0m\u001b[0m_get_params\u001b[0m\u001b[0;34m(\u001b[0m\u001b[0mself\u001b[0m\u001b[0;34m.\u001b[0m\u001b[0msymbols\u001b[0m\u001b[0;34m)\u001b[0m\u001b[0;34m)\u001b[0m\u001b[0;34m\u001b[0m\u001b[0;34m\u001b[0m\u001b[0m\n\u001b[0m\u001b[1;32m    254\u001b[0m         \u001b[0;31m# Or multiple symbols, (e.g., ['GOOG', 'AAPL', 'MSFT'])\u001b[0m\u001b[0;34m\u001b[0m\u001b[0;34m\u001b[0m\u001b[0m\n\u001b[1;32m    255\u001b[0m         \u001b[0;32melif\u001b[0m \u001b[0misinstance\u001b[0m\u001b[0;34m(\u001b[0m\u001b[0mself\u001b[0m\u001b[0;34m.\u001b[0m\u001b[0msymbols\u001b[0m\u001b[0;34m,\u001b[0m \u001b[0mDataFrame\u001b[0m\u001b[0;34m)\u001b[0m\u001b[0;34m:\u001b[0m\u001b[0;34m\u001b[0m\u001b[0;34m\u001b[0m\u001b[0m\n",
            "\u001b[0;32m/usr/local/lib/python3.11/dist-packages/pandas_datareader/base.py\u001b[0m in \u001b[0;36m_read_one_data\u001b[0;34m(self, url, params)\u001b[0m\n\u001b[1;32m    106\u001b[0m         \u001b[0;34m\"\"\"read one data from specified URL\"\"\"\u001b[0m\u001b[0;34m\u001b[0m\u001b[0;34m\u001b[0m\u001b[0m\n\u001b[1;32m    107\u001b[0m         \u001b[0;32mif\u001b[0m \u001b[0mself\u001b[0m\u001b[0;34m.\u001b[0m\u001b[0m_format\u001b[0m \u001b[0;34m==\u001b[0m \u001b[0;34m\"string\"\u001b[0m\u001b[0;34m:\u001b[0m\u001b[0;34m\u001b[0m\u001b[0;34m\u001b[0m\u001b[0m\n\u001b[0;32m--> 108\u001b[0;31m             \u001b[0mout\u001b[0m \u001b[0;34m=\u001b[0m \u001b[0mself\u001b[0m\u001b[0;34m.\u001b[0m\u001b[0m_read_url_as_StringIO\u001b[0m\u001b[0;34m(\u001b[0m\u001b[0murl\u001b[0m\u001b[0;34m,\u001b[0m \u001b[0mparams\u001b[0m\u001b[0;34m=\u001b[0m\u001b[0mparams\u001b[0m\u001b[0;34m)\u001b[0m\u001b[0;34m\u001b[0m\u001b[0;34m\u001b[0m\u001b[0m\n\u001b[0m\u001b[1;32m    109\u001b[0m         \u001b[0;32melif\u001b[0m \u001b[0mself\u001b[0m\u001b[0;34m.\u001b[0m\u001b[0m_format\u001b[0m \u001b[0;34m==\u001b[0m \u001b[0;34m\"json\"\u001b[0m\u001b[0;34m:\u001b[0m\u001b[0;34m\u001b[0m\u001b[0;34m\u001b[0m\u001b[0m\n\u001b[1;32m    110\u001b[0m             \u001b[0mout\u001b[0m \u001b[0;34m=\u001b[0m \u001b[0mself\u001b[0m\u001b[0;34m.\u001b[0m\u001b[0m_get_response\u001b[0m\u001b[0;34m(\u001b[0m\u001b[0murl\u001b[0m\u001b[0;34m,\u001b[0m \u001b[0mparams\u001b[0m\u001b[0;34m=\u001b[0m\u001b[0mparams\u001b[0m\u001b[0;34m)\u001b[0m\u001b[0;34m.\u001b[0m\u001b[0mjson\u001b[0m\u001b[0;34m(\u001b[0m\u001b[0;34m)\u001b[0m\u001b[0;34m\u001b[0m\u001b[0;34m\u001b[0m\u001b[0m\n",
            "\u001b[0;32m/usr/local/lib/python3.11/dist-packages/pandas_datareader/base.py\u001b[0m in \u001b[0;36m_read_url_as_StringIO\u001b[0;34m(self, url, params)\u001b[0m\n\u001b[1;32m    117\u001b[0m         \u001b[0mOpen\u001b[0m \u001b[0murl\u001b[0m \u001b[0;34m(\u001b[0m\u001b[0;32mand\u001b[0m \u001b[0mretry\u001b[0m\u001b[0;34m)\u001b[0m\u001b[0;34m\u001b[0m\u001b[0;34m\u001b[0m\u001b[0m\n\u001b[1;32m    118\u001b[0m         \"\"\"\n\u001b[0;32m--> 119\u001b[0;31m         \u001b[0mresponse\u001b[0m \u001b[0;34m=\u001b[0m \u001b[0mself\u001b[0m\u001b[0;34m.\u001b[0m\u001b[0m_get_response\u001b[0m\u001b[0;34m(\u001b[0m\u001b[0murl\u001b[0m\u001b[0;34m,\u001b[0m \u001b[0mparams\u001b[0m\u001b[0;34m=\u001b[0m\u001b[0mparams\u001b[0m\u001b[0;34m)\u001b[0m\u001b[0;34m\u001b[0m\u001b[0;34m\u001b[0m\u001b[0m\n\u001b[0m\u001b[1;32m    120\u001b[0m         \u001b[0mtext\u001b[0m \u001b[0;34m=\u001b[0m \u001b[0mself\u001b[0m\u001b[0;34m.\u001b[0m\u001b[0m_sanitize_response\u001b[0m\u001b[0;34m(\u001b[0m\u001b[0mresponse\u001b[0m\u001b[0;34m)\u001b[0m\u001b[0;34m\u001b[0m\u001b[0;34m\u001b[0m\u001b[0m\n\u001b[1;32m    121\u001b[0m         \u001b[0mout\u001b[0m \u001b[0;34m=\u001b[0m \u001b[0mStringIO\u001b[0m\u001b[0;34m(\u001b[0m\u001b[0;34m)\u001b[0m\u001b[0;34m\u001b[0m\u001b[0;34m\u001b[0m\u001b[0m\n",
            "\u001b[0;32m/usr/local/lib/python3.11/dist-packages/pandas_datareader/base.py\u001b[0m in \u001b[0;36m_get_response\u001b[0;34m(self, url, params, headers)\u001b[0m\n\u001b[1;32m    179\u001b[0m             \u001b[0mmsg\u001b[0m \u001b[0;34m+=\u001b[0m \u001b[0;34m\"\\nResponse Text:\\n{0}\"\u001b[0m\u001b[0;34m.\u001b[0m\u001b[0mformat\u001b[0m\u001b[0;34m(\u001b[0m\u001b[0mlast_response_text\u001b[0m\u001b[0;34m)\u001b[0m\u001b[0;34m\u001b[0m\u001b[0;34m\u001b[0m\u001b[0m\n\u001b[1;32m    180\u001b[0m \u001b[0;34m\u001b[0m\u001b[0m\n\u001b[0;32m--> 181\u001b[0;31m         \u001b[0;32mraise\u001b[0m \u001b[0mRemoteDataError\u001b[0m\u001b[0;34m(\u001b[0m\u001b[0mmsg\u001b[0m\u001b[0;34m)\u001b[0m\u001b[0;34m\u001b[0m\u001b[0;34m\u001b[0m\u001b[0m\n\u001b[0m\u001b[1;32m    182\u001b[0m \u001b[0;34m\u001b[0m\u001b[0m\n\u001b[1;32m    183\u001b[0m     \u001b[0;32mdef\u001b[0m \u001b[0m_get_crumb\u001b[0m\u001b[0;34m(\u001b[0m\u001b[0mself\u001b[0m\u001b[0;34m,\u001b[0m \u001b[0;34m*\u001b[0m\u001b[0margs\u001b[0m\u001b[0;34m)\u001b[0m\u001b[0;34m:\u001b[0m\u001b[0;34m\u001b[0m\u001b[0;34m\u001b[0m\u001b[0m\n",
            "\u001b[0;31mRemoteDataError\u001b[0m: Unable to read URL: https://www.quandl.com/api/v3/datasets/WIKI/AAPL.csv?start_date=2020-01-01&end_date=2020-05-11&order=asc&api_key=qLkRnYQDoj-7yJUjgoD7\nResponse Text:\nb'<html style=\"height:100%\"><head><META NAME=\"ROBOTS\" CONTENT=\"NOINDEX, NOFOLLOW\"><meta name=\"format-detection\" content=\"telephone=no\"><meta name=\"viewport\" content=\"initial-scale=1.0\"><meta http-equiv=\"X-UA-Compatible\" content=\"IE=edge,chrome=1\"><script type=\"text/javascript\" src=\"/_Incapsula_Resource?SWJIYLWA=719d34d31c8e3a6e6fffd425f7e032f3\"></script></head><body style=\"margin:0px;height:100%\"><iframe id=\"main-iframe\" src=\"/_Incapsula_Resource?CWUDNSAI=23&xinfo=14-30130679-0%200NNN%20RT%281739960740179%2017%29%20q%280%20-1%20-1%20-1%29%20r%280%20-1%29%20B15%2811%2c3946292%2c0%29%20U18&incident_id=1324000250262492458-181015288017061454&edet=15&cinfo=0b000000&rpinfo=0&mth=GET\" frameborder=0 width=\"100%\" height=\"100%\" marginheight=\"0px\" marginwidth=\"0px\">Request unsuccessful. Incapsula incident ID: 1324000250262492458-181015288017061454</iframe></body></html>'"
          ]
        }
      ]
    }
  ]
}