{
  "nbformat": 4,
  "nbformat_minor": 0,
  "metadata": {
    "colab": {
      "provenance": [],
      "authorship_tag": "ABX9TyOcI5tvFldV7GlWyriard5J",
      "include_colab_link": true
    },
    "kernelspec": {
      "name": "python3",
      "display_name": "Python 3"
    },
    "language_info": {
      "name": "python"
    }
  },
  "cells": [
    {
      "cell_type": "markdown",
      "metadata": {
        "id": "view-in-github",
        "colab_type": "text"
      },
      "source": [
        "<a href=\"https://colab.research.google.com/github/charliezou/stock/blob/master/sto05.ipynb\" target=\"_parent\"><img src=\"https://colab.research.google.com/assets/colab-badge.svg\" alt=\"Open In Colab\"/></a>"
      ]
    },
    {
      "cell_type": "code",
      "execution_count": 1,
      "metadata": {
        "colab": {
          "base_uri": "https://localhost:8080/"
        },
        "id": "K4RxQG6597B-",
        "outputId": "0c47fa63-a917-4692-be5a-b22feecfc507"
      },
      "outputs": [
        {
          "output_type": "stream",
          "name": "stdout",
          "text": [
            "Cloning into 'stock'...\n",
            "remote: Enumerating objects: 41, done.\u001b[K\n",
            "remote: Counting objects: 100% (41/41), done.\u001b[K\n",
            "remote: Compressing objects: 100% (35/35), done.\u001b[K\n",
            "remote: Total 41 (delta 15), reused 9 (delta 3), pack-reused 0 (from 0)\u001b[K\n",
            "Receiving objects: 100% (41/41), 1.21 MiB | 4.35 MiB/s, done.\n",
            "Resolving deltas: 100% (15/15), done.\n",
            "/content/stock\n"
          ]
        }
      ],
      "source": [
        "!git clone https://github.com/charliezou/stock.git\n",
        "%cd stock"
      ]
    },
    {
      "cell_type": "code",
      "source": [
        "!git config --global user.email \"962278683@qq.com\"\n",
        "!git config --global user.name \"charliezou\"\n",
        "#!git remote set-url origin git@github.com:charliezou/stock.git\n",
        "\n"
      ],
      "metadata": {
        "id": "bwR3petiu2by"
      },
      "execution_count": 136,
      "outputs": []
    },
    {
      "cell_type": "code",
      "source": [
        "!git push origin master"
      ],
      "metadata": {
        "colab": {
          "base_uri": "https://localhost:8080/"
        },
        "id": "yV9EAnX3wX8j",
        "outputId": "8cdabe90-bb20-4340-b1ec-e820617bcefa"
      },
      "execution_count": 137,
      "outputs": [
        {
          "output_type": "stream",
          "name": "stdout",
          "text": [
            "remote: Support for password authentication was removed on August 13, 2021.\n",
            "remote: Please see https://docs.github.com/get-started/getting-started-with-git/about-remote-repositories#cloning-with-https-urls for information on currently recommended modes of authentication.\n",
            "fatal: Authentication failed for 'https://github.com/charliezou/stock.git/'\n"
          ]
        }
      ]
    },
    {
      "cell_type": "code",
      "source": [
        "!git add .\n",
        "!git commit -m \"add form colab\"\n",
        "!git push origin master"
      ],
      "metadata": {
        "id": "H5FKSQSQ-FuX",
        "colab": {
          "base_uri": "https://localhost:8080/"
        },
        "outputId": "6c64b618-ba9f-4892-8f6b-98dadfae7d3c"
      },
      "execution_count": 138,
      "outputs": [
        {
          "output_type": "stream",
          "name": "stdout",
          "text": [
            "On branch master\n",
            "Your branch is ahead of 'origin/master' by 1 commit.\n",
            "  (use \"git push\" to publish your local commits)\n",
            "\n",
            "nothing to commit, working tree clean\n",
            "remote: Support for password authentication was removed on August 13, 2021.\n",
            "remote: Please see https://docs.github.com/get-started/getting-started-with-git/about-remote-repositories#cloning-with-https-urls for information on currently recommended modes of authentication.\n",
            "fatal: Authentication failed for 'https://github.com/charliezou/stock.git/'\n"
          ]
        }
      ]
    },
    {
      "cell_type": "code",
      "source": [
        "import warnings\n",
        "warnings.filterwarnings('ignore')\n",
        "\n",
        "import yfinance as yf\n",
        "import numpy as np\n",
        "import pandas as pd\n",
        "import tensorflow as tf\n",
        "from sklearn.preprocessing import StandardScaler\n",
        "from sklearn.model_selection import TimeSeriesSplit\n",
        "from sklearn.metrics import mean_absolute_error, r2_score\n",
        "from keras.models import Model\n",
        "from keras.layers import Input, LSTM, Dense, Attention, concatenate\n",
        "from keras.callbacks import EarlyStopping\n",
        "\n",
        "ZHIBIAO = ['Norm_Close','MACD_Hist_Z', 'Norm_Volume', 'KC', 'KC_Vol', 'RSI','Momentum_3','Momentum_7']\n",
        "\n",
        "TARGET_HORIZON = 7\n",
        "\n",
        "tickers = ['AAPL', 'AMZN', 'BRK-B', 'GOOGL', 'META', 'MSFT', 'NVDA', 'TSLA']\n",
        "\n",
        "ticker = 'TSLA'\n",
        "\n",
        "def download_data():\n",
        "    \"\"\"获取数据\"\"\"\n",
        "    data = yf.download(ticker, start='2010-01-01', end='2023-12-31', interval='1D', auto_adjust=True)\n",
        "    data = data.drop_duplicates()\n",
        "    data = pd.DataFrame({\n",
        "        'Close' : data['Close'][ticker],\n",
        "        'High' : data['High'][ticker],\n",
        "        'Low' : data['Low'][ticker],\n",
        "        'Open' : data['Open'][ticker],\n",
        "        'Volume' : data['Volume'][ticker],\n",
        "    })\n",
        "    return resample_weekly(data)\n",
        "\n",
        "\n",
        "def resample_weekly(data):\n",
        "    \"\"\"将日线数据重采样为周线数据\"\"\"\n",
        "    return data.resample('W-FRI').agg({\n",
        "        'Open': 'first',\n",
        "        'High': 'max',\n",
        "        'Low': 'min',\n",
        "        'Close': 'last',\n",
        "        'Volume': 'sum'\n",
        "    }).dropna()\n",
        "\n",
        "def fetch_data():\n",
        "    \"\"\"获取纳斯达克指数数据\"\"\"\n",
        "    data = pd.read_csv('dpixic.csv', index_col=0, parse_dates=True)\n",
        "    data.index = pd.to_datetime(data.index)\n",
        "\n",
        "    return resample_weekly(data)\n",
        "\n",
        "def calculate_kc(df):\n",
        "    \"\"\"计算Keltner通道\"\"\"\n",
        "    ema = df['Close'].ewm(span=20, adjust=False).mean()\n",
        "    atr = (df['High'] - df['Low']).rolling(20).mean()\n",
        "    df['KC_Middle'] = ema\n",
        "    df['KC_Upper'] = ema + 1.5 * atr\n",
        "    df['KC_Lower'] = ema - 1.5 * atr\n",
        "    df['KC'] = (df['Close'] - df['KC_Middle'])/(df['KC_Upper'] - df['KC_Lower'])*2*100\n",
        "    df['KC_Vol'] = (df['KC_Upper'] - df['KC_Lower'])/df['KC_Middle']*100\n",
        "    return df\n",
        "\n",
        "# MACD指标计算\n",
        "def calculate_macd(data):\n",
        "    data['EMA12'] = data['Close'].ewm(span=12, adjust=False).mean()\n",
        "    data['EMA26'] = data['Close'].ewm(span=26, adjust=False).mean()\n",
        "    data['DIF'] = data['EMA12'] - data['EMA26']\n",
        "    data['DEA'] = data['DIF'].ewm(span=9, adjust=False).mean()\n",
        "    data['MACD_Hist'] = data['DIF'] - data['DEA']\n",
        "    data['MACD_Hist_Z'] = data['MACD_Hist']/data['Close'].shift(1)*100\n",
        "    return data\n",
        "\n",
        "def calculate_rsi(df):\n",
        "    \"\"\"计算RSI指标\"\"\"\n",
        "    delta = df['Close'].diff()\n",
        "    gain = delta.where(delta > 0, 0)\n",
        "    loss = -delta.where(delta < 0, 0)\n",
        "\n",
        "    avg_gain = gain.rolling(14).mean()\n",
        "    avg_loss = loss.rolling(14).mean()\n",
        "\n",
        "    rs = avg_gain / avg_loss\n",
        "    df['RSI'] = 100 - (100 / (1 + rs))\n",
        "    return df\n",
        "\n",
        "\n",
        "# ========== base-动量计算 ==========\n",
        "def calculate_momentum(df):\n",
        "    df['Momentum_1'] = df['Close'].pct_change(1)\n",
        "    df['Momentum_3'] = df['Close'].pct_change(3)\n",
        "    df['Momentum_7'] = df['Close'].pct_change(7)\n",
        "\n",
        "    return df\n",
        "\n",
        "def calculate_norm_volume(df):\n",
        "    \"\"\"计算标准化volume\"\"\"\n",
        "    med = df['Volume'].rolling(window=26,min_periods=1).median()\n",
        "    df['Norm_Volume'] = df['Volume']/ med - 1\n",
        "    return df\n",
        "\n",
        "def calculate_norm_close(df):\n",
        "    \"\"\"计算标准化Close\"\"\"\n",
        "    med = df['Close'].rolling(window=26,min_periods=1).median()\n",
        "    df['Norm_Close'] = df['Close']/ med - 1\n",
        "    return df\n",
        "\n",
        "\n",
        "def calculate_indicators(df):\n",
        "    \"\"\"计算技术指标\"\"\"\n",
        "    df = calculate_kc(df)\n",
        "    df = calculate_macd(df)\n",
        "    df = calculate_rsi(df)\n",
        "    df = calculate_momentum(df)\n",
        "\n",
        "    # 标准化成交量\n",
        "    df = calculate_norm_volume(df)\n",
        "    df = calculate_norm_close(df)\n",
        "\n",
        "    return df.dropna()\n",
        "\n",
        "def calculate_target_v1(df):\n",
        "    \"\"\"计算目标值\"\"\"\n",
        "    df['Targer'] = 1/(1+df['Close'].pct_change(-TARGET_HORIZON))-1\n",
        "    return df\n",
        "\n",
        "def calculate_target(df):\n",
        "    \"\"\"计算目标值\"\"\"\n",
        "    max = df['Close'].rolling(window=TARGET_HORIZON,min_periods=1).max().shift(-TARGET_HORIZON)\n",
        "    min = df['Close'].rolling(window=TARGET_HORIZON,min_periods=1).min().shift(-TARGET_HORIZON)\n",
        "\n",
        "    df['Targer'] = (max + min) / df['Close'] / 2 -1\n",
        "    return df\n",
        "\n",
        "def create_dataset(data, lookback=26, horizon=TARGET_HORIZON):\n",
        "    \"\"\"创建时间序列数据集\"\"\"\n",
        "    X, y, timestamps = [], [], []\n",
        "    for i in range(len(data)-lookback-horizon+1):\n",
        "        # 输入特征：过去lookback周的技术指标\n",
        "        features = data[ZHIBIAO]\n",
        "        seq = features.iloc[i:i+lookback].values\n",
        "\n",
        "        # 输出标签：未来第3周的收益率\n",
        "        target = data['Targer'].iloc[i+lookback-1]\n",
        "\n",
        "        X.append(seq)\n",
        "        y.append(target)\n",
        "        timestamps.append(data.index[i+lookback-1])  # 记录每个样本的结束时间\n",
        "    return np.array(X), np.array(y), np.array(timestamps)\n",
        "\n",
        "def build_hybrid_model(input_shape):\n",
        "    \"\"\"构建混合神经网络模型\"\"\"\n",
        "    # 时间序列特征分支\n",
        "    inputs = Input(shape=input_shape)\n",
        "    lstm_out = LSTM(64, return_sequences=True)(inputs)\n",
        "    att_out = Attention()([lstm_out, lstm_out])\n",
        "    ts_feature = Dense(64, activation='relu')(att_out[:, -1, :])\n",
        "\n",
        "    # 技术指标统计特征\n",
        "    dense_feature = Dense(16, activation='relu')(inputs[:, -1, :])\n",
        "\n",
        "    # 特征融合\n",
        "    merged = concatenate([ts_feature, dense_feature])\n",
        "    output = Dense(1, activation='tanh')(Dense(32, activation='relu')(merged))\n",
        "\n",
        "    model = Model(inputs=inputs, outputs=output)\n",
        "    model.compile(optimizer='adam', loss='mse', metrics=['mae'])\n",
        "    return model\n",
        "\n",
        "def evaluate_model(model, X_test, y_test):\n",
        "    \"\"\"模型评估与量化验证\"\"\"\n",
        "    predictions = model.predict(X_test).flatten()\n",
        "\n",
        "    # 回归指标\n",
        "    print(f\"MAE: {mean_absolute_error(y_test, predictions):.4f}\")\n",
        "    print(f\"R²: {r2_score(y_test, predictions):.4f}\")\n",
        "\n",
        "    # 方向准确率\n",
        "    direction_acc = np.mean((np.sign(y_test) == np.sign(predictions)).astype(int))\n",
        "    print(f\"方向准确率: {direction_acc:.2%}\")\n",
        "\n",
        "    # 收益曲线模拟\n",
        "    strategy_returns = np.sign(predictions) * y_test\n",
        "    print(f\"累计收益率: {np.prod(1 + strategy_returns) - 1:.2%}\")\n",
        "\n",
        "def run_model(model, X):\n",
        "    \"\"\"模型评估与量化验证\"\"\"\n",
        "    predictions = model.predict(X).flatten()\n",
        "    return predictions\n",
        "\n"
      ],
      "metadata": {
        "id": "bIFHBCrQ-IRY"
      },
      "execution_count": 99,
      "outputs": []
    },
    {
      "cell_type": "code",
      "source": [
        "\n",
        "# 数据准备\n",
        "#data = fetch_data()  #dapan\n",
        "data = download_data()\n",
        "data = calculate_indicators(data)\n",
        "data = calculate_target(data)\n",
        "\n",
        "# 创建数据集\n",
        "X, y, timestamps = create_dataset(data)\n",
        "\n",
        "# 数据标准化\n",
        "scaler = StandardScaler()\n",
        "X = scaler.fit_transform(X.reshape(-1, X.shape[-1])).reshape(X.shape)\n",
        "\n",
        "# 划分训练测试集\n",
        "split = int(0.8 * len(X))\n",
        "X_train, y_train, timestamps_train = X[:split], y[:split], timestamps[:split]\n",
        "X_test, y_test, timestamps_test = X[split:], y[split:], timestamps[split:]\n",
        "\n",
        "\n",
        "# 构建模型\n",
        "size = len(ZHIBIAO)\n",
        "model = build_hybrid_model(input_shape=(26, len(ZHIBIAO)))\n",
        "early_stop = EarlyStopping(monitor='val_loss', patience=5,restore_best_weights=True)\n",
        "\n",
        "# 模型训练\n",
        "history = model.fit(X_train, y_train,\n",
        "                    epochs=100,\n",
        "                    batch_size=32,\n",
        "                    validation_split=0.2,\n",
        "                    callbacks=[early_stop],\n",
        "                    verbose=1)\n",
        "\n",
        "# 模型评估\n",
        "evaluate_model(model, X_test, y_test)\n",
        "\n",
        "# 未来预测\n",
        "latest_data = scaler.transform(data[ZHIBIAO].iloc[-26:].values)\n",
        "future_pred = model.predict(latest_data.reshape(1, 26, len(ZHIBIAO)))\n",
        "print(f\"\\n未来第3周预测涨跌幅: {future_pred[0][0]:.2%}\")\n",
        "\n"
      ],
      "metadata": {
        "colab": {
          "base_uri": "https://localhost:8080/"
        },
        "id": "kyoNIwVl-kWP",
        "outputId": "1d12fa76-e6b2-4250-d3bc-ae27b4c366e8"
      },
      "execution_count": 104,
      "outputs": [
        {
          "output_type": "stream",
          "name": "stderr",
          "text": [
            "\r[*********************100%***********************]  1 of 1 completed\n"
          ]
        },
        {
          "output_type": "stream",
          "name": "stdout",
          "text": [
            "Epoch 1/100\n",
            "\u001b[1m14/14\u001b[0m \u001b[32m━━━━━━━━━━━━━━━━━━━━\u001b[0m\u001b[37m\u001b[0m \u001b[1m4s\u001b[0m 52ms/step - loss: 0.0224 - mae: 0.1078 - val_loss: 0.0677 - val_mae: 0.2112\n",
            "Epoch 2/100\n",
            "\u001b[1m14/14\u001b[0m \u001b[32m━━━━━━━━━━━━━━━━━━━━\u001b[0m\u001b[37m\u001b[0m \u001b[1m1s\u001b[0m 40ms/step - loss: 0.0145 - mae: 0.0863 - val_loss: 0.0799 - val_mae: 0.2322\n",
            "Epoch 3/100\n",
            "\u001b[1m14/14\u001b[0m \u001b[32m━━━━━━━━━━━━━━━━━━━━\u001b[0m\u001b[37m\u001b[0m \u001b[1m1s\u001b[0m 37ms/step - loss: 0.0107 - mae: 0.0766 - val_loss: 0.0738 - val_mae: 0.2185\n",
            "Epoch 4/100\n",
            "\u001b[1m14/14\u001b[0m \u001b[32m━━━━━━━━━━━━━━━━━━━━\u001b[0m\u001b[37m\u001b[0m \u001b[1m1s\u001b[0m 43ms/step - loss: 0.0100 - mae: 0.0731 - val_loss: 0.0791 - val_mae: 0.2276\n",
            "Epoch 5/100\n",
            "\u001b[1m14/14\u001b[0m \u001b[32m━━━━━━━━━━━━━━━━━━━━\u001b[0m\u001b[37m\u001b[0m \u001b[1m1s\u001b[0m 41ms/step - loss: 0.0092 - mae: 0.0672 - val_loss: 0.0854 - val_mae: 0.2375\n",
            "Epoch 6/100\n",
            "\u001b[1m14/14\u001b[0m \u001b[32m━━━━━━━━━━━━━━━━━━━━\u001b[0m\u001b[37m\u001b[0m \u001b[1m0s\u001b[0m 26ms/step - loss: 0.0109 - mae: 0.0735 - val_loss: 0.0888 - val_mae: 0.2439\n",
            "\u001b[1m5/5\u001b[0m \u001b[32m━━━━━━━━━━━━━━━━━━━━\u001b[0m\u001b[37m\u001b[0m \u001b[1m0s\u001b[0m 57ms/step\n",
            "MAE: 0.1319\n",
            "R²: -0.1080\n",
            "方向准确率: 62.60%\n",
            "累计收益率: 2659.27%\n",
            "\u001b[1m1/1\u001b[0m \u001b[32m━━━━━━━━━━━━━━━━━━━━\u001b[0m\u001b[37m\u001b[0m \u001b[1m0s\u001b[0m 39ms/step\n",
            "\n",
            "未来第3周预测涨跌幅: -6.61%\n"
          ]
        }
      ]
    },
    {
      "cell_type": "code",
      "source": [
        "predictions_train = run_model(model, X_train)\n",
        "predictions_test = run_model(model, X_test)\n",
        "\n",
        "# 初始化全零信号矩阵\n",
        "data.loc[timestamps_train, 'Pred_train'] = predictions_train\n",
        "data.loc[timestamps_test, 'Pred_test'] = predictions_test\n",
        "\n",
        "data[['Close']+ZHIBIAO+['Targer']+['Pred_train', 'Pred_test']].to_csv(f'formodel_{ticker}.csv')\n"
      ],
      "metadata": {
        "colab": {
          "base_uri": "https://localhost:8080/"
        },
        "id": "e8xapxYtJ_5E",
        "outputId": "a568e972-4494-4d5c-c8f7-be8dde7a201b"
      },
      "execution_count": 105,
      "outputs": [
        {
          "output_type": "stream",
          "name": "stdout",
          "text": [
            "\u001b[1m17/17\u001b[0m \u001b[32m━━━━━━━━━━━━━━━━━━━━\u001b[0m\u001b[37m\u001b[0m \u001b[1m0s\u001b[0m 7ms/step\n",
            "\u001b[1m5/5\u001b[0m \u001b[32m━━━━━━━━━━━━━━━━━━━━\u001b[0m\u001b[37m\u001b[0m \u001b[1m0s\u001b[0m 10ms/step\n"
          ]
        }
      ]
    },
    {
      "cell_type": "code",
      "source": [
        "model.save_weights(f'model_{ticker}.weights.h5')"
      ],
      "metadata": {
        "id": "V8czDUFTmDLm"
      },
      "execution_count": 106,
      "outputs": []
    },
    {
      "cell_type": "code",
      "source": [
        "model.load_weights(f'model_{ticker}.weights.h5')\n",
        "# 模型评估\n",
        "evaluate_model(model, X_test, y_test)"
      ],
      "metadata": {
        "id": "lXEhMgggHTUX",
        "colab": {
          "base_uri": "https://localhost:8080/"
        },
        "outputId": "27634655-2bd3-41b3-9e89-500b1a9bcefe"
      },
      "execution_count": 107,
      "outputs": [
        {
          "output_type": "stream",
          "name": "stdout",
          "text": [
            "\u001b[1m5/5\u001b[0m \u001b[32m━━━━━━━━━━━━━━━━━━━━\u001b[0m\u001b[37m\u001b[0m \u001b[1m0s\u001b[0m 9ms/step \n",
            "MAE: 0.1319\n",
            "R²: -0.1080\n",
            "方向准确率: 62.60%\n",
            "累计收益率: 2659.27%\n"
          ]
        }
      ]
    }
  ]
}